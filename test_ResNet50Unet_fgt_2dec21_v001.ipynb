{
 "cells": [
  {
   "cell_type": "code",
   "execution_count": 1,
   "metadata": {},
   "outputs": [],
   "source": [
    "from modelUnetResnet50 import *\n",
    "from data import *\n",
    "\n",
    "vid=\"v001_3\" #version id should match the file number \n",
    "# The final number can be [1:5] and denote the cross-validation order\n",
    "# Ran DellWS with GeForce RTX3060 GPU"
   ]
  },
  {
   "cell_type": "code",
   "execution_count": 2,
   "metadata": {},
   "outputs": [
    {
     "name": "stderr",
     "output_type": "stream",
     "text": [
      "C:\\Users\\tiryakiv\\miniconda3\\envs\\tf-latest\\lib\\site-packages\\tensorflow\\python\\keras\\engine\\training.py:2001: UserWarning: `Model.predict_generator` is deprecated and will be removed in a future version. Please use `Model.predict`, which supports generators.\n",
      "  warnings.warn('`Model.predict_generator` is deprecated and '\n"
     ]
    },
    {
     "name": "stdout",
     "output_type": "stream",
     "text": [
      "6/6 [==============================] - 16s 379ms/step\n"
     ]
    }
   ],
   "source": [
    "model = build_resnet50_unet()\n",
    "testGene = testGenerator(\"fgt_seg07/test/pred\")\n",
    "model.load_weights(\"files/unet_fgt_seg_\"+vid+\".hdf5\")\n",
    "results = model.predict_generator(testGene,6,verbose=1)\n",
    "saveResult(\"fgt_seg07/test/pred\",results,vid[:4])"
   ]
  },
  {
   "cell_type": "code",
   "execution_count": null,
   "metadata": {},
   "outputs": [],
   "source": []
  }
 ],
 "metadata": {
  "kernelspec": {
   "display_name": "tf-latest",
   "language": "python",
   "name": "tf-latest"
  },
  "language_info": {
   "codemirror_mode": {
    "name": "ipython",
    "version": 3
   },
   "file_extension": ".py",
   "mimetype": "text/x-python",
   "name": "python",
   "nbconvert_exporter": "python",
   "pygments_lexer": "ipython3",
   "version": "3.8.10"
  }
 },
 "nbformat": 4,
 "nbformat_minor": 2
}
